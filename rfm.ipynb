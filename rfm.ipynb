{
 "cells": [
  {
   "cell_type": "code",
   "execution_count": 140,
   "id": "ba2a5c84",
   "metadata": {},
   "outputs": [],
   "source": [
    "import os\n",
    "import sys\n",
    "import numpy as np\n",
    "import pandas as pd\n",
    "import sklearn\n",
    "from sklearn.preprocessing import StandardScaler\n",
    "from sklearn.cluster import KMeans\n",
    "from scipy.stats import boxcox\n",
    "import matplotlib.pyplot as plt\n",
    "import seaborn as sns"
   ]
  },
  {
   "cell_type": "code",
   "execution_count": 141,
   "id": "83d90cb3",
   "metadata": {},
   "outputs": [],
   "source": [
    "path = '/Users/simgesenyuz/Desktop/ortak/data/rfm'"
   ]
  },
  {
   "cell_type": "markdown",
   "id": "41bf784d",
   "metadata": {},
   "source": [
    "# Dataset"
   ]
  },
  {
   "cell_type": "markdown",
   "id": "e6fd4b8f",
   "metadata": {},
   "source": [
    "A df with 'Recency', 'Frequency', 'MonetaryValue' column for every user. <br>\n",
    "\n",
    "Recency: Days passed since last transaction (in the last 3 months) <br>\n",
    "Frequency: Number of transactions (in the last 3 months) <br>\n",
    "MonetaryValue: Volume (in the last 3 months)"
   ]
  },
  {
   "cell_type": "code",
   "execution_count": 145,
   "id": "72be889a",
   "metadata": {},
   "outputs": [
    {
     "data": {
      "text/html": [
       "<div>\n",
       "<style scoped>\n",
       "    .dataframe tbody tr th:only-of-type {\n",
       "        vertical-align: middle;\n",
       "    }\n",
       "\n",
       "    .dataframe tbody tr th {\n",
       "        vertical-align: top;\n",
       "    }\n",
       "\n",
       "    .dataframe thead th {\n",
       "        text-align: right;\n",
       "    }\n",
       "</style>\n",
       "<table border=\"1\" class=\"dataframe\">\n",
       "  <thead>\n",
       "    <tr style=\"text-align: right;\">\n",
       "      <th></th>\n",
       "      <th>user_key</th>\n",
       "      <th>num_days_since_trx</th>\n",
       "      <th>num_transactions</th>\n",
       "      <th>total_vol</th>\n",
       "    </tr>\n",
       "  </thead>\n",
       "  <tbody>\n",
       "    <tr>\n",
       "      <th>0</th>\n",
       "      <td>92a5ad82-9539-44a9-98cf-99d8e657a672</td>\n",
       "      <td>51</td>\n",
       "      <td>15</td>\n",
       "      <td>175298.977127</td>\n",
       "    </tr>\n",
       "    <tr>\n",
       "      <th>1</th>\n",
       "      <td>b8491a88-0ebd-48f8-88d0-18dbcece81e7</td>\n",
       "      <td>1</td>\n",
       "      <td>1535</td>\n",
       "      <td>687158.975208</td>\n",
       "    </tr>\n",
       "    <tr>\n",
       "      <th>2</th>\n",
       "      <td>d8f7601f-8a4a-47e0-976c-c57140a5f4d6</td>\n",
       "      <td>25</td>\n",
       "      <td>7</td>\n",
       "      <td>777.249446</td>\n",
       "    </tr>\n",
       "    <tr>\n",
       "      <th>3</th>\n",
       "      <td>e0b668f0-31ed-4ade-9fd3-17c9f6f242d3</td>\n",
       "      <td>73</td>\n",
       "      <td>2</td>\n",
       "      <td>263.071085</td>\n",
       "    </tr>\n",
       "    <tr>\n",
       "      <th>4</th>\n",
       "      <td>64a834fa-f4a2-4e6a-a168-f1c1bef9c3ca</td>\n",
       "      <td>65</td>\n",
       "      <td>4</td>\n",
       "      <td>1511.334180</td>\n",
       "    </tr>\n",
       "    <tr>\n",
       "      <th>...</th>\n",
       "      <td>...</td>\n",
       "      <td>...</td>\n",
       "      <td>...</td>\n",
       "      <td>...</td>\n",
       "    </tr>\n",
       "    <tr>\n",
       "      <th>7687</th>\n",
       "      <td>6b79831b-2921-4458-8f91-45c8b8547202</td>\n",
       "      <td>1</td>\n",
       "      <td>1</td>\n",
       "      <td>18996.361010</td>\n",
       "    </tr>\n",
       "    <tr>\n",
       "      <th>7688</th>\n",
       "      <td>29c72fe4-f6ae-435d-adca-255d0693f046</td>\n",
       "      <td>1</td>\n",
       "      <td>5</td>\n",
       "      <td>940.524300</td>\n",
       "    </tr>\n",
       "    <tr>\n",
       "      <th>7689</th>\n",
       "      <td>bdfa804e-f813-4483-a592-666beda57ab7</td>\n",
       "      <td>0</td>\n",
       "      <td>49</td>\n",
       "      <td>2049.753487</td>\n",
       "    </tr>\n",
       "    <tr>\n",
       "      <th>7690</th>\n",
       "      <td>0cdeefe0-e9b5-4134-8191-36a019604abc</td>\n",
       "      <td>0</td>\n",
       "      <td>1</td>\n",
       "      <td>193.158000</td>\n",
       "    </tr>\n",
       "    <tr>\n",
       "      <th>7691</th>\n",
       "      <td>83f954f6-8bac-4e49-810c-305abfed3029</td>\n",
       "      <td>0</td>\n",
       "      <td>1</td>\n",
       "      <td>199.699710</td>\n",
       "    </tr>\n",
       "  </tbody>\n",
       "</table>\n",
       "<p>7692 rows × 4 columns</p>\n",
       "</div>"
      ],
      "text/plain": [
       "                                  user_key  num_days_since_trx  \\\n",
       "0     92a5ad82-9539-44a9-98cf-99d8e657a672                  51   \n",
       "1     b8491a88-0ebd-48f8-88d0-18dbcece81e7                   1   \n",
       "2     d8f7601f-8a4a-47e0-976c-c57140a5f4d6                  25   \n",
       "3     e0b668f0-31ed-4ade-9fd3-17c9f6f242d3                  73   \n",
       "4     64a834fa-f4a2-4e6a-a168-f1c1bef9c3ca                  65   \n",
       "...                                    ...                 ...   \n",
       "7687  6b79831b-2921-4458-8f91-45c8b8547202                   1   \n",
       "7688  29c72fe4-f6ae-435d-adca-255d0693f046                   1   \n",
       "7689  bdfa804e-f813-4483-a592-666beda57ab7                   0   \n",
       "7690  0cdeefe0-e9b5-4134-8191-36a019604abc                   0   \n",
       "7691  83f954f6-8bac-4e49-810c-305abfed3029                   0   \n",
       "\n",
       "      num_transactions      total_vol  \n",
       "0                   15  175298.977127  \n",
       "1                 1535  687158.975208  \n",
       "2                    7     777.249446  \n",
       "3                    2     263.071085  \n",
       "4                    4    1511.334180  \n",
       "...                ...            ...  \n",
       "7687                 1   18996.361010  \n",
       "7688                 5     940.524300  \n",
       "7689                49    2049.753487  \n",
       "7690                 1     193.158000  \n",
       "7691                 1     199.699710  \n",
       "\n",
       "[7692 rows x 4 columns]"
      ]
     },
     "execution_count": 145,
     "metadata": {},
     "output_type": "execute_result"
    }
   ],
   "source": [
    "df = pd.read_excel(os.path.join(path, 'rfm_all_users.xlsx'))\n",
    "df"
   ]
  },
  {
   "cell_type": "code",
   "execution_count": 146,
   "id": "3905bac9",
   "metadata": {},
   "outputs": [
    {
     "data": {
      "text/html": [
       "<div>\n",
       "<style scoped>\n",
       "    .dataframe tbody tr th:only-of-type {\n",
       "        vertical-align: middle;\n",
       "    }\n",
       "\n",
       "    .dataframe tbody tr th {\n",
       "        vertical-align: top;\n",
       "    }\n",
       "\n",
       "    .dataframe thead th {\n",
       "        text-align: right;\n",
       "    }\n",
       "</style>\n",
       "<table border=\"1\" class=\"dataframe\">\n",
       "  <thead>\n",
       "    <tr style=\"text-align: right;\">\n",
       "      <th></th>\n",
       "      <th>user_key</th>\n",
       "      <th>num_days_since_trx</th>\n",
       "      <th>num_transactions</th>\n",
       "      <th>total_vol</th>\n",
       "    </tr>\n",
       "  </thead>\n",
       "  <tbody>\n",
       "    <tr>\n",
       "      <th>0</th>\n",
       "      <td>92a5ad82-9539-44a9-98cf-99d8e657a672</td>\n",
       "      <td>52</td>\n",
       "      <td>16</td>\n",
       "      <td>175299.977127</td>\n",
       "    </tr>\n",
       "    <tr>\n",
       "      <th>1</th>\n",
       "      <td>b8491a88-0ebd-48f8-88d0-18dbcece81e7</td>\n",
       "      <td>2</td>\n",
       "      <td>1536</td>\n",
       "      <td>687159.975208</td>\n",
       "    </tr>\n",
       "    <tr>\n",
       "      <th>2</th>\n",
       "      <td>d8f7601f-8a4a-47e0-976c-c57140a5f4d6</td>\n",
       "      <td>26</td>\n",
       "      <td>8</td>\n",
       "      <td>778.249446</td>\n",
       "    </tr>\n",
       "    <tr>\n",
       "      <th>3</th>\n",
       "      <td>e0b668f0-31ed-4ade-9fd3-17c9f6f242d3</td>\n",
       "      <td>74</td>\n",
       "      <td>3</td>\n",
       "      <td>264.071085</td>\n",
       "    </tr>\n",
       "    <tr>\n",
       "      <th>4</th>\n",
       "      <td>64a834fa-f4a2-4e6a-a168-f1c1bef9c3ca</td>\n",
       "      <td>66</td>\n",
       "      <td>5</td>\n",
       "      <td>1512.334180</td>\n",
       "    </tr>\n",
       "    <tr>\n",
       "      <th>...</th>\n",
       "      <td>...</td>\n",
       "      <td>...</td>\n",
       "      <td>...</td>\n",
       "      <td>...</td>\n",
       "    </tr>\n",
       "    <tr>\n",
       "      <th>7687</th>\n",
       "      <td>6b79831b-2921-4458-8f91-45c8b8547202</td>\n",
       "      <td>2</td>\n",
       "      <td>2</td>\n",
       "      <td>18997.361010</td>\n",
       "    </tr>\n",
       "    <tr>\n",
       "      <th>7688</th>\n",
       "      <td>29c72fe4-f6ae-435d-adca-255d0693f046</td>\n",
       "      <td>2</td>\n",
       "      <td>6</td>\n",
       "      <td>941.524300</td>\n",
       "    </tr>\n",
       "    <tr>\n",
       "      <th>7689</th>\n",
       "      <td>bdfa804e-f813-4483-a592-666beda57ab7</td>\n",
       "      <td>1</td>\n",
       "      <td>50</td>\n",
       "      <td>2050.753487</td>\n",
       "    </tr>\n",
       "    <tr>\n",
       "      <th>7690</th>\n",
       "      <td>0cdeefe0-e9b5-4134-8191-36a019604abc</td>\n",
       "      <td>1</td>\n",
       "      <td>2</td>\n",
       "      <td>194.158000</td>\n",
       "    </tr>\n",
       "    <tr>\n",
       "      <th>7691</th>\n",
       "      <td>83f954f6-8bac-4e49-810c-305abfed3029</td>\n",
       "      <td>1</td>\n",
       "      <td>2</td>\n",
       "      <td>200.699710</td>\n",
       "    </tr>\n",
       "  </tbody>\n",
       "</table>\n",
       "<p>7692 rows × 4 columns</p>\n",
       "</div>"
      ],
      "text/plain": [
       "                                  user_key  num_days_since_trx  \\\n",
       "0     92a5ad82-9539-44a9-98cf-99d8e657a672                  52   \n",
       "1     b8491a88-0ebd-48f8-88d0-18dbcece81e7                   2   \n",
       "2     d8f7601f-8a4a-47e0-976c-c57140a5f4d6                  26   \n",
       "3     e0b668f0-31ed-4ade-9fd3-17c9f6f242d3                  74   \n",
       "4     64a834fa-f4a2-4e6a-a168-f1c1bef9c3ca                  66   \n",
       "...                                    ...                 ...   \n",
       "7687  6b79831b-2921-4458-8f91-45c8b8547202                   2   \n",
       "7688  29c72fe4-f6ae-435d-adca-255d0693f046                   2   \n",
       "7689  bdfa804e-f813-4483-a592-666beda57ab7                   1   \n",
       "7690  0cdeefe0-e9b5-4134-8191-36a019604abc                   1   \n",
       "7691  83f954f6-8bac-4e49-810c-305abfed3029                   1   \n",
       "\n",
       "      num_transactions      total_vol  \n",
       "0                   16  175299.977127  \n",
       "1                 1536  687159.975208  \n",
       "2                    8     778.249446  \n",
       "3                    3     264.071085  \n",
       "4                    5    1512.334180  \n",
       "...                ...            ...  \n",
       "7687                 2   18997.361010  \n",
       "7688                 6     941.524300  \n",
       "7689                50    2050.753487  \n",
       "7690                 2     194.158000  \n",
       "7691                 2     200.699710  \n",
       "\n",
       "[7692 rows x 4 columns]"
      ]
     },
     "execution_count": 146,
     "metadata": {},
     "output_type": "execute_result"
    }
   ],
   "source": [
    "df[['num_days_since_trx', 'num_transactions', 'total_vol']] = df[['num_days_since_trx', 'num_transactions', 'total_vol']] + 1\n",
    "df"
   ]
  },
  {
   "cell_type": "code",
   "execution_count": 147,
   "id": "6860619c",
   "metadata": {},
   "outputs": [],
   "source": [
    "df = df.rename(columns={'num_days_since_trx': 'Recency', 'num_transactions': 'Frequency', 'total_vol': 'MonetaryValue'})"
   ]
  },
  {
   "cell_type": "markdown",
   "id": "ab409603",
   "metadata": {},
   "source": [
    "# Preprocessing"
   ]
  },
  {
   "cell_type": "code",
   "execution_count": 148,
   "id": "c621147a",
   "metadata": {
    "scrolled": true
   },
   "outputs": [],
   "source": [
    "#df_log = np.log(df[['Recency', 'Frequency', 'MonetaryValue']])\n",
    "\n",
    "#scaler = StandardScaler()\n",
    "#scaler.fit(df_log)\n",
    "#df_norm = scaler.transform(df_log)"
   ]
  },
  {
   "cell_type": "code",
   "execution_count": 149,
   "id": "6226aa7c",
   "metadata": {},
   "outputs": [
    {
     "name": "stdout",
     "output_type": "stream",
     "text": [
      "Box-Cox Lambda Values: {'Recency': 0.4473580018807812, 'Frequency': -0.19022191331374574, 'MonetaryValue': -0.024023548922192713}\n"
     ]
    },
    {
     "data": {
      "text/html": [
       "<div>\n",
       "<style scoped>\n",
       "    .dataframe tbody tr th:only-of-type {\n",
       "        vertical-align: middle;\n",
       "    }\n",
       "\n",
       "    .dataframe tbody tr th {\n",
       "        vertical-align: top;\n",
       "    }\n",
       "\n",
       "    .dataframe thead th {\n",
       "        text-align: right;\n",
       "    }\n",
       "</style>\n",
       "<table border=\"1\" class=\"dataframe\">\n",
       "  <thead>\n",
       "    <tr style=\"text-align: right;\">\n",
       "      <th></th>\n",
       "      <th>Recency</th>\n",
       "      <th>Frequency</th>\n",
       "      <th>MonetaryValue</th>\n",
       "    </tr>\n",
       "  </thead>\n",
       "  <tbody>\n",
       "    <tr>\n",
       "      <th>0</th>\n",
       "      <td>0.683731</td>\n",
       "      <td>0.074138</td>\n",
       "      <td>0.898283</td>\n",
       "    </tr>\n",
       "    <tr>\n",
       "      <th>1</th>\n",
       "      <td>-1.483668</td>\n",
       "      <td>1.884468</td>\n",
       "      <td>1.254283</td>\n",
       "    </tr>\n",
       "    <tr>\n",
       "      <th>2</th>\n",
       "      <td>-0.069487</td>\n",
       "      <td>-0.365535</td>\n",
       "      <td>-0.634309</td>\n",
       "    </tr>\n",
       "    <tr>\n",
       "      <th>3</th>\n",
       "      <td>1.166756</td>\n",
       "      <td>-1.095595</td>\n",
       "      <td>-0.964687</td>\n",
       "    </tr>\n",
       "    <tr>\n",
       "      <th>4</th>\n",
       "      <td>1.001698</td>\n",
       "      <td>-0.698410</td>\n",
       "      <td>-0.435448</td>\n",
       "    </tr>\n",
       "  </tbody>\n",
       "</table>\n",
       "</div>"
      ],
      "text/plain": [
       "    Recency  Frequency  MonetaryValue\n",
       "0  0.683731   0.074138       0.898283\n",
       "1 -1.483668   1.884468       1.254283\n",
       "2 -0.069487  -0.365535      -0.634309\n",
       "3  1.166756  -1.095595      -0.964687\n",
       "4  1.001698  -0.698410      -0.435448"
      ]
     },
     "execution_count": 149,
     "metadata": {},
     "output_type": "execute_result"
    }
   ],
   "source": [
    "# Select features\n",
    "features = ['Recency', 'Frequency', 'MonetaryValue']\n",
    "\n",
    "# Apply Box-Cox transformation\n",
    "df_boxcox_transformed = pd.DataFrame(index=df.index)\n",
    "lambdas = {}  # Store lambda values for reference\n",
    "\n",
    "for col in features:\n",
    "    df_boxcox_transformed[col], lambdas[col] = boxcox(df[col])  # No need to shift since you've added 1\n",
    "\n",
    "# Standardization (Normalization)\n",
    "scaler = StandardScaler()\n",
    "df_norm = scaler.fit_transform(df_boxcox_transformed)\n",
    "\n",
    "# Convert back to DataFrame\n",
    "df_norm = pd.DataFrame(df_norm, columns=features, index=df.index)\n",
    "\n",
    "# Print lambda values\n",
    "print(\"Box-Cox Lambda Values:\", lambdas)\n",
    "\n",
    "# Show first few rows\n",
    "df_norm.head()"
   ]
  },
  {
   "cell_type": "code",
   "execution_count": 150,
   "id": "f88d994f",
   "metadata": {},
   "outputs": [
    {
     "data": {
      "image/png": "[encoded data removed]",
      "text/plain": [
       "<Figure size 1500x500 with 3 Axes>"
      ]
     },
     "metadata": {},
     "output_type": "display_data"
    }
   ],
   "source": [
    "# Before boxcox transformation\n",
    "fig, axes = plt.subplots(1, 3, figsize=(15, 5))\n",
    "columns = ['Recency', 'Frequency', 'MonetaryValue']\n",
    "\n",
    "for i, col in enumerate(columns):\n",
    "    sns.histplot(df[col], bins=30, kde=True, ax=axes[i])\n",
    "    axes[i].set_title(f\"Original {col} Distribution\")\n",
    "\n",
    "plt.show()"
   ]
  },
  {
   "cell_type": "code",
   "execution_count": 151,
   "id": "12c59608",
   "metadata": {},
   "outputs": [
    {
     "data": {
      "image/png": "[encoded data removed]",
      "text/plain": [
       "<Figure size 1500x500 with 3 Axes>"
      ]
     },
     "metadata": {},
     "output_type": "display_data"
    }
   ],
   "source": [
    "# After boxcox transformation\n",
    "fig, axes = plt.subplots(1, 3, figsize=(15, 5))\n",
    "\n",
    "for i, col in enumerate(columns):\n",
    "    sns.histplot(df_boxcox_transformed[col], bins=30, kde=True, ax=axes[i])\n",
    "    axes[i].set_title(f\"Boxcox-Transformed {col} Distribution\")\n",
    "\n",
    "plt.show()"
   ]
  },
  {
   "cell_type": "markdown",
   "id": "f0562ccd",
   "metadata": {},
   "source": [
    "# Clustering"
   ]
  },
  {
   "cell_type": "code",
   "execution_count": 152,
   "id": "51dac46d",
   "metadata": {},
   "outputs": [
    {
     "name": "stderr",
     "output_type": "stream",
     "text": [
      "/Users/simgesenyuz/anaconda3/lib/python3.11/site-packages/sklearn/cluster/_kmeans.py:1412: FutureWarning: The default value of `n_init` will change from 10 to 'auto' in 1.4. Set the value of `n_init` explicitly to suppress the warning\n",
      "  super()._check_params_vs_input(X, default_n_init=10)\n"
     ]
    },
    {
     "name": "stdout",
     "output_type": "stream",
     "text": [
      "Num of clusters: 1\n",
      "SSE for num of clusters: 23075.999999999996\n"
     ]
    },
    {
     "name": "stderr",
     "output_type": "stream",
     "text": [
      "/Users/simgesenyuz/anaconda3/lib/python3.11/site-packages/sklearn/cluster/_kmeans.py:1412: FutureWarning: The default value of `n_init` will change from 10 to 'auto' in 1.4. Set the value of `n_init` explicitly to suppress the warning\n",
      "  super()._check_params_vs_input(X, default_n_init=10)\n"
     ]
    },
    {
     "name": "stdout",
     "output_type": "stream",
     "text": [
      "Num of clusters: 2\n",
      "SSE for num of clusters: 11604.139990259311\n"
     ]
    },
    {
     "name": "stderr",
     "output_type": "stream",
     "text": [
      "/Users/simgesenyuz/anaconda3/lib/python3.11/site-packages/sklearn/cluster/_kmeans.py:1412: FutureWarning: The default value of `n_init` will change from 10 to 'auto' in 1.4. Set the value of `n_init` explicitly to suppress the warning\n",
      "  super()._check_params_vs_input(X, default_n_init=10)\n"
     ]
    },
    {
     "name": "stdout",
     "output_type": "stream",
     "text": [
      "Num of clusters: 3\n",
      "SSE for num of clusters: 8741.249219254996\n"
     ]
    },
    {
     "name": "stderr",
     "output_type": "stream",
     "text": [
      "/Users/simgesenyuz/anaconda3/lib/python3.11/site-packages/sklearn/cluster/_kmeans.py:1412: FutureWarning: The default value of `n_init` will change from 10 to 'auto' in 1.4. Set the value of `n_init` explicitly to suppress the warning\n",
      "  super()._check_params_vs_input(X, default_n_init=10)\n"
     ]
    },
    {
     "name": "stdout",
     "output_type": "stream",
     "text": [
      "Num of clusters: 4\n",
      "SSE for num of clusters: 6804.82084287805\n"
     ]
    },
    {
     "name": "stderr",
     "output_type": "stream",
     "text": [
      "/Users/simgesenyuz/anaconda3/lib/python3.11/site-packages/sklearn/cluster/_kmeans.py:1412: FutureWarning: The default value of `n_init` will change from 10 to 'auto' in 1.4. Set the value of `n_init` explicitly to suppress the warning\n",
      "  super()._check_params_vs_input(X, default_n_init=10)\n"
     ]
    },
    {
     "name": "stdout",
     "output_type": "stream",
     "text": [
      "Num of clusters: 5\n",
      "SSE for num of clusters: 5719.339274749151\n"
     ]
    },
    {
     "name": "stderr",
     "output_type": "stream",
     "text": [
      "/Users/simgesenyuz/anaconda3/lib/python3.11/site-packages/sklearn/cluster/_kmeans.py:1412: FutureWarning: The default value of `n_init` will change from 10 to 'auto' in 1.4. Set the value of `n_init` explicitly to suppress the warning\n",
      "  super()._check_params_vs_input(X, default_n_init=10)\n"
     ]
    },
    {
     "name": "stdout",
     "output_type": "stream",
     "text": [
      "Num of clusters: 6\n",
      "SSE for num of clusters: 4984.577705015814\n"
     ]
    },
    {
     "name": "stderr",
     "output_type": "stream",
     "text": [
      "/Users/simgesenyuz/anaconda3/lib/python3.11/site-packages/sklearn/cluster/_kmeans.py:1412: FutureWarning: The default value of `n_init` will change from 10 to 'auto' in 1.4. Set the value of `n_init` explicitly to suppress the warning\n",
      "  super()._check_params_vs_input(X, default_n_init=10)\n"
     ]
    },
    {
     "name": "stdout",
     "output_type": "stream",
     "text": [
      "Num of clusters: 7\n",
      "SSE for num of clusters: 4514.665466259008\n"
     ]
    },
    {
     "name": "stderr",
     "output_type": "stream",
     "text": [
      "/Users/simgesenyuz/anaconda3/lib/python3.11/site-packages/sklearn/cluster/_kmeans.py:1412: FutureWarning: The default value of `n_init` will change from 10 to 'auto' in 1.4. Set the value of `n_init` explicitly to suppress the warning\n",
      "  super()._check_params_vs_input(X, default_n_init=10)\n"
     ]
    },
    {
     "name": "stdout",
     "output_type": "stream",
     "text": [
      "Num of clusters: 8\n",
      "SSE for num of clusters: 4182.768628301168\n"
     ]
    },
    {
     "name": "stderr",
     "output_type": "stream",
     "text": [
      "/Users/simgesenyuz/anaconda3/lib/python3.11/site-packages/sklearn/cluster/_kmeans.py:1412: FutureWarning: The default value of `n_init` will change from 10 to 'auto' in 1.4. Set the value of `n_init` explicitly to suppress the warning\n",
      "  super()._check_params_vs_input(X, default_n_init=10)\n"
     ]
    },
    {
     "name": "stdout",
     "output_type": "stream",
     "text": [
      "Num of clusters: 9\n",
      "SSE for num of clusters: 3870.6593719464845\n"
     ]
    },
    {
     "name": "stderr",
     "output_type": "stream",
     "text": [
      "/Users/simgesenyuz/anaconda3/lib/python3.11/site-packages/sklearn/cluster/_kmeans.py:1412: FutureWarning: The default value of `n_init` will change from 10 to 'auto' in 1.4. Set the value of `n_init` explicitly to suppress the warning\n",
      "  super()._check_params_vs_input(X, default_n_init=10)\n"
     ]
    },
    {
     "name": "stdout",
     "output_type": "stream",
     "text": [
      "Num of clusters: 10\n",
      "SSE for num of clusters: 3597.341183866718\n"
     ]
    },
    {
     "name": "stderr",
     "output_type": "stream",
     "text": [
      "/Users/simgesenyuz/anaconda3/lib/python3.11/site-packages/sklearn/cluster/_kmeans.py:1412: FutureWarning: The default value of `n_init` will change from 10 to 'auto' in 1.4. Set the value of `n_init` explicitly to suppress the warning\n",
      "  super()._check_params_vs_input(X, default_n_init=10)\n"
     ]
    },
    {
     "name": "stdout",
     "output_type": "stream",
     "text": [
      "Num of clusters: 11\n",
      "SSE for num of clusters: 3352.313129503139\n"
     ]
    },
    {
     "name": "stderr",
     "output_type": "stream",
     "text": [
      "/Users/simgesenyuz/anaconda3/lib/python3.11/site-packages/sklearn/cluster/_kmeans.py:1412: FutureWarning: The default value of `n_init` will change from 10 to 'auto' in 1.4. Set the value of `n_init` explicitly to suppress the warning\n",
      "  super()._check_params_vs_input(X, default_n_init=10)\n"
     ]
    },
    {
     "name": "stdout",
     "output_type": "stream",
     "text": [
      "Num of clusters: 12\n",
      "SSE for num of clusters: 3145.4444361301175\n"
     ]
    },
    {
     "name": "stderr",
     "output_type": "stream",
     "text": [
      "/Users/simgesenyuz/anaconda3/lib/python3.11/site-packages/sklearn/cluster/_kmeans.py:1412: FutureWarning: The default value of `n_init` will change from 10 to 'auto' in 1.4. Set the value of `n_init` explicitly to suppress the warning\n",
      "  super()._check_params_vs_input(X, default_n_init=10)\n"
     ]
    },
    {
     "name": "stdout",
     "output_type": "stream",
     "text": [
      "Num of clusters: 13\n",
      "SSE for num of clusters: 2978.5071086311614\n"
     ]
    },
    {
     "name": "stderr",
     "output_type": "stream",
     "text": [
      "/Users/simgesenyuz/anaconda3/lib/python3.11/site-packages/sklearn/cluster/_kmeans.py:1412: FutureWarning: The default value of `n_init` will change from 10 to 'auto' in 1.4. Set the value of `n_init` explicitly to suppress the warning\n",
      "  super()._check_params_vs_input(X, default_n_init=10)\n"
     ]
    },
    {
     "name": "stdout",
     "output_type": "stream",
     "text": [
      "Num of clusters: 14\n",
      "SSE for num of clusters: 2826.9474657386245\n"
     ]
    },
    {
     "data": {
      "image/png": "[encoded data removed]",
      "text/plain": [
       "<Figure size 640x480 with 1 Axes>"
      ]
     },
     "metadata": {},
     "output_type": "display_data"
    }
   ],
   "source": [
    "sse = {}\n",
    "for k in range(1, 15):\n",
    "  \n",
    "    # Initialize KMeans with k clusters and fit it \n",
    "    kmeans = KMeans(n_clusters=k, random_state=1).fit(df_norm)\n",
    "    \n",
    "    # Assign sum of squared distances to k element of the sse dictionary\n",
    "    sse[k] = kmeans.inertia_   \n",
    "    print(f'Num of clusters: {k}')\n",
    "    print(f'SSE for num of clusters: {kmeans.inertia_}')\n",
    "\n",
    "# Add the plot title, x and y axis labels\n",
    "plt.title('Decrease in Error by Increased Number of Clusters')\n",
    "plt.xlabel('k')\n",
    "plt.ylabel('SSE')\n",
    "\n",
    "# Plot SSE values for each k stored as keys in the dictionary\n",
    "sns.pointplot(x=list(sse.keys()), y=list(sse.values()))\n",
    "plt.show()"
   ]
  },
  {
   "cell_type": "markdown",
   "id": "7786b3a5",
   "metadata": {},
   "source": [
    "# 3 Clusters"
   ]
  },
  {
   "cell_type": "markdown",
   "id": "0575bd08",
   "metadata": {},
   "source": [
    "Recency: Days passed since last transaction (in the last 3 months) <br>\n",
    "Frequency: Number of transactions (in the last 3 months) <br>\n",
    "MonetaryValue: Volume (in the last 3 months)"
   ]
  },
  {
   "cell_type": "markdown",
   "id": "9ed848d5",
   "metadata": {},
   "source": [
    "2d plot - cluster\n",
    "no transaction"
   ]
  },
  {
   "cell_type": "code",
   "execution_count": 167,
   "id": "ee4245ea",
   "metadata": {},
   "outputs": [
    {
     "name": "stderr",
     "output_type": "stream",
     "text": [
      "/Users/simgesenyuz/anaconda3/lib/python3.11/site-packages/sklearn/cluster/_kmeans.py:1412: FutureWarning: The default value of `n_init` will change from 10 to 'auto' in 1.4. Set the value of `n_init` explicitly to suppress the warning\n",
      "  super()._check_params_vs_input(X, default_n_init=10)\n"
     ]
    }
   ],
   "source": [
    "kmeans = KMeans(n_clusters=3, random_state=1) \n",
    "kmeans.fit(df_norm)\n",
    "cluster_labels = kmeans.labels_"
   ]
  },
  {
   "cell_type": "code",
   "execution_count": 168,
   "id": "bfac7536",
   "metadata": {},
   "outputs": [
    {
     "data": {
      "text/html": [
       "<div>\n",
       "<style scoped>\n",
       "    .dataframe tbody tr th:only-of-type {\n",
       "        vertical-align: middle;\n",
       "    }\n",
       "\n",
       "    .dataframe tbody tr th {\n",
       "        vertical-align: top;\n",
       "    }\n",
       "\n",
       "    .dataframe thead tr th {\n",
       "        text-align: left;\n",
       "    }\n",
       "\n",
       "    .dataframe thead tr:last-of-type th {\n",
       "        text-align: right;\n",
       "    }\n",
       "</style>\n",
       "<table border=\"1\" class=\"dataframe\">\n",
       "  <thead>\n",
       "    <tr>\n",
       "      <th></th>\n",
       "      <th>Recency</th>\n",
       "      <th>Frequency</th>\n",
       "      <th colspan=\"2\" halign=\"left\">MonetaryValue</th>\n",
       "    </tr>\n",
       "    <tr>\n",
       "      <th></th>\n",
       "      <th>mean</th>\n",
       "      <th>mean</th>\n",
       "      <th>mean</th>\n",
       "      <th>count</th>\n",
       "    </tr>\n",
       "    <tr>\n",
       "      <th>Cluster</th>\n",
       "      <th></th>\n",
       "      <th></th>\n",
       "      <th></th>\n",
       "      <th></th>\n",
       "    </tr>\n",
       "  </thead>\n",
       "  <tbody>\n",
       "    <tr>\n",
       "      <th>0</th>\n",
       "      <td>50.37</td>\n",
       "      <td>3.31</td>\n",
       "      <td>2354.70</td>\n",
       "      <td>3097</td>\n",
       "    </tr>\n",
       "    <tr>\n",
       "      <th>1</th>\n",
       "      <td>45.85</td>\n",
       "      <td>82.81</td>\n",
       "      <td>561255.99</td>\n",
       "      <td>2278</td>\n",
       "    </tr>\n",
       "    <tr>\n",
       "      <th>2</th>\n",
       "      <td>4.66</td>\n",
       "      <td>394.32</td>\n",
       "      <td>6337885.25</td>\n",
       "      <td>2317</td>\n",
       "    </tr>\n",
       "  </tbody>\n",
       "</table>\n",
       "</div>"
      ],
      "text/plain": [
       "        Recency Frequency MonetaryValue      \n",
       "           mean      mean          mean count\n",
       "Cluster                                      \n",
       "0         50.37      3.31       2354.70  3097\n",
       "1         45.85     82.81     561255.99  2278\n",
       "2          4.66    394.32    6337885.25  2317"
      ]
     },
     "execution_count": 168,
     "metadata": {},
     "output_type": "execute_result"
    }
   ],
   "source": [
    "df_k3 = df.assign(Cluster=cluster_labels)\n",
    "\n",
    "df_k3[['Recency', 'Frequency', 'MonetaryValue']] = df_k3[['Recency', 'Frequency', 'MonetaryValue']] - 1\n",
    "grouped = df_k3.groupby(['Cluster'])\n",
    "\n",
    "grouped.agg({\n",
    "    'Recency': 'mean',\n",
    "    'Frequency': 'mean',\n",
    "    'MonetaryValue': ['mean', 'count']\n",
    "  }).round(2)"
   ]
  },
  {
   "cell_type": "code",
   "execution_count": 214,
   "id": "aee0290e",
   "metadata": {},
   "outputs": [
    {
     "data": {
      "text/html": [
       "<div>\n",
       "<style scoped>\n",
       "    .dataframe tbody tr th:only-of-type {\n",
       "        vertical-align: middle;\n",
       "    }\n",
       "\n",
       "    .dataframe tbody tr th {\n",
       "        vertical-align: top;\n",
       "    }\n",
       "\n",
       "    .dataframe thead th {\n",
       "        text-align: right;\n",
       "    }\n",
       "</style>\n",
       "<table border=\"1\" class=\"dataframe\">\n",
       "  <thead>\n",
       "    <tr style=\"text-align: right;\">\n",
       "      <th></th>\n",
       "      <th>Recency</th>\n",
       "      <th>Frequency</th>\n",
       "      <th>MonetaryValue</th>\n",
       "    </tr>\n",
       "    <tr>\n",
       "      <th>Cluster</th>\n",
       "      <th></th>\n",
       "      <th></th>\n",
       "      <th></th>\n",
       "    </tr>\n",
       "  </thead>\n",
       "  <tbody>\n",
       "    <tr>\n",
       "      <th>0</th>\n",
       "      <td>1.389074</td>\n",
       "      <td>0.022748</td>\n",
       "      <td>0.001134</td>\n",
       "    </tr>\n",
       "    <tr>\n",
       "      <th>1</th>\n",
       "      <td>1.264399</td>\n",
       "      <td>0.568606</td>\n",
       "      <td>0.270318</td>\n",
       "    </tr>\n",
       "    <tr>\n",
       "      <th>2</th>\n",
       "      <td>0.128452</td>\n",
       "      <td>2.707573</td>\n",
       "      <td>3.052524</td>\n",
       "    </tr>\n",
       "  </tbody>\n",
       "</table>\n",
       "</div>"
      ],
      "text/plain": [
       "          Recency  Frequency  MonetaryValue\n",
       "Cluster                                    \n",
       "0        1.389074   0.022748       0.001134\n",
       "1        1.264399   0.568606       0.270318\n",
       "2        0.128452   2.707573       3.052524"
      ]
     },
     "execution_count": 214,
     "metadata": {},
     "output_type": "execute_result"
    }
   ],
   "source": [
    "cluster_avg = df_k3[['Recency', 'Frequency', 'MonetaryValue', 'Cluster']].groupby(['Cluster']).mean() \n",
    "population_avg = df[['Recency', 'Frequency', 'MonetaryValue']].mean()\n",
    "relative_imp = cluster_avg / population_avg\n",
    "relative_imp"
   ]
  },
  {
   "cell_type": "code",
   "execution_count": 199,
   "id": "c994b57f",
   "metadata": {},
   "outputs": [
    {
     "data": {
      "image/png": "[encoded data removed]",
      "text/plain": [
       "<Figure size 800x200 with 2 Axes>"
      ]
     },
     "metadata": {},
     "output_type": "display_data"
    }
   ],
   "source": [
    "plt.figure(figsize=(8, 2))\n",
    "plt.title('Relative importance of attributes')\n",
    "\n",
    "sns.heatmap(data=relative_imp, annot=True, fmt='.2f', cmap='RdYlGn')\n",
    "plt.show()"
   ]
  },
  {
   "cell_type": "markdown",
   "id": "beb6848e",
   "metadata": {},
   "source": [
    "# 4 Clusters"
   ]
  },
  {
   "cell_type": "markdown",
   "id": "359f2fb4",
   "metadata": {},
   "source": [
    "Recency: Days passed since last transaction (in the last 3 months) <br>\n",
    "Frequency: Number of transactions (in the last 3 months) <br>\n",
    "MonetaryValue: Volume (in the last 3 months)"
   ]
  },
  {
   "cell_type": "code",
   "execution_count": 169,
   "id": "0d1a1d07",
   "metadata": {},
   "outputs": [
    {
     "name": "stderr",
     "output_type": "stream",
     "text": [
      "/Users/simgesenyuz/anaconda3/lib/python3.11/site-packages/sklearn/cluster/_kmeans.py:1412: FutureWarning: The default value of `n_init` will change from 10 to 'auto' in 1.4. Set the value of `n_init` explicitly to suppress the warning\n",
      "  super()._check_params_vs_input(X, default_n_init=10)\n"
     ]
    }
   ],
   "source": [
    "kmeans = KMeans(n_clusters=4, random_state=1) \n",
    "kmeans.fit(df_norm)\n",
    "cluster_labels = kmeans.labels_"
   ]
  },
  {
   "cell_type": "code",
   "execution_count": 170,
   "id": "2467fc0b",
   "metadata": {},
   "outputs": [
    {
     "data": {
      "text/html": [
       "<div>\n",
       "<style scoped>\n",
       "    .dataframe tbody tr th:only-of-type {\n",
       "        vertical-align: middle;\n",
       "    }\n",
       "\n",
       "    .dataframe tbody tr th {\n",
       "        vertical-align: top;\n",
       "    }\n",
       "\n",
       "    .dataframe thead tr th {\n",
       "        text-align: left;\n",
       "    }\n",
       "\n",
       "    .dataframe thead tr:last-of-type th {\n",
       "        text-align: right;\n",
       "    }\n",
       "</style>\n",
       "<table border=\"1\" class=\"dataframe\">\n",
       "  <thead>\n",
       "    <tr>\n",
       "      <th></th>\n",
       "      <th>Recency</th>\n",
       "      <th>Frequency</th>\n",
       "      <th colspan=\"2\" halign=\"left\">MonetaryValue</th>\n",
       "    </tr>\n",
       "    <tr>\n",
       "      <th></th>\n",
       "      <th>mean</th>\n",
       "      <th>mean</th>\n",
       "      <th>mean</th>\n",
       "      <th>count</th>\n",
       "    </tr>\n",
       "    <tr>\n",
       "      <th>Cluster</th>\n",
       "      <th></th>\n",
       "      <th></th>\n",
       "      <th></th>\n",
       "      <th></th>\n",
       "    </tr>\n",
       "  </thead>\n",
       "  <tbody>\n",
       "    <tr>\n",
       "      <th>0</th>\n",
       "      <td>9.02</td>\n",
       "      <td>16.30</td>\n",
       "      <td>22109.47</td>\n",
       "      <td>1465</td>\n",
       "    </tr>\n",
       "    <tr>\n",
       "      <th>1</th>\n",
       "      <td>58.45</td>\n",
       "      <td>3.12</td>\n",
       "      <td>2350.42</td>\n",
       "      <td>2604</td>\n",
       "    </tr>\n",
       "    <tr>\n",
       "      <th>2</th>\n",
       "      <td>5.07</td>\n",
       "      <td>560.99</td>\n",
       "      <td>9281343.79</td>\n",
       "      <td>1609</td>\n",
       "    </tr>\n",
       "    <tr>\n",
       "      <th>3</th>\n",
       "      <td>48.50</td>\n",
       "      <td>88.33</td>\n",
       "      <td>495789.86</td>\n",
       "      <td>2014</td>\n",
       "    </tr>\n",
       "  </tbody>\n",
       "</table>\n",
       "</div>"
      ],
      "text/plain": [
       "        Recency Frequency MonetaryValue      \n",
       "           mean      mean          mean count\n",
       "Cluster                                      \n",
       "0          9.02     16.30      22109.47  1465\n",
       "1         58.45      3.12       2350.42  2604\n",
       "2          5.07    560.99    9281343.79  1609\n",
       "3         48.50     88.33     495789.86  2014"
      ]
     },
     "execution_count": 170,
     "metadata": {},
     "output_type": "execute_result"
    }
   ],
   "source": [
    "df_k4 = df.assign(Cluster=cluster_labels)\n",
    "\n",
    "df_k4[['Recency', 'Frequency', 'MonetaryValue']] = df_k4[['Recency', 'Frequency', 'MonetaryValue']] - 1\n",
    "grouped = df_k4.groupby(['Cluster'])\n",
    "\n",
    "grouped.agg({\n",
    "    'Recency': 'mean',\n",
    "    'Frequency': 'mean',\n",
    "    'MonetaryValue': ['mean', 'count']\n",
    "  }).round(2)"
   ]
  },
  {
   "cell_type": "code",
   "execution_count": 209,
   "id": "3ae07ee4",
   "metadata": {},
   "outputs": [
    {
     "data": {
      "text/html": [
       "<div>\n",
       "<style scoped>\n",
       "    .dataframe tbody tr th:only-of-type {\n",
       "        vertical-align: middle;\n",
       "    }\n",
       "\n",
       "    .dataframe tbody tr th {\n",
       "        vertical-align: top;\n",
       "    }\n",
       "\n",
       "    .dataframe thead th {\n",
       "        text-align: right;\n",
       "    }\n",
       "</style>\n",
       "<table border=\"1\" class=\"dataframe\">\n",
       "  <thead>\n",
       "    <tr style=\"text-align: right;\">\n",
       "      <th></th>\n",
       "      <th>Recency</th>\n",
       "      <th>Frequency</th>\n",
       "      <th>MonetaryValue</th>\n",
       "    </tr>\n",
       "    <tr>\n",
       "      <th>Cluster</th>\n",
       "      <th></th>\n",
       "      <th></th>\n",
       "      <th></th>\n",
       "    </tr>\n",
       "  </thead>\n",
       "  <tbody>\n",
       "    <tr>\n",
       "      <th>0</th>\n",
       "      <td>0.248745</td>\n",
       "      <td>0.111903</td>\n",
       "      <td>0.010649</td>\n",
       "    </tr>\n",
       "    <tr>\n",
       "      <th>1</th>\n",
       "      <td>1.611776</td>\n",
       "      <td>0.021428</td>\n",
       "      <td>0.001132</td>\n",
       "    </tr>\n",
       "    <tr>\n",
       "      <th>2</th>\n",
       "      <td>0.139763</td>\n",
       "      <td>3.852046</td>\n",
       "      <td>4.470186</td>\n",
       "    </tr>\n",
       "    <tr>\n",
       "      <th>3</th>\n",
       "      <td>1.337404</td>\n",
       "      <td>0.606507</td>\n",
       "      <td>0.238788</td>\n",
       "    </tr>\n",
       "  </tbody>\n",
       "</table>\n",
       "</div>"
      ],
      "text/plain": [
       "          Recency  Frequency  MonetaryValue\n",
       "Cluster                                    \n",
       "0        0.248745   0.111903       0.010649\n",
       "1        1.611776   0.021428       0.001132\n",
       "2        0.139763   3.852046       4.470186\n",
       "3        1.337404   0.606507       0.238788"
      ]
     },
     "execution_count": 209,
     "metadata": {},
     "output_type": "execute_result"
    }
   ],
   "source": [
    "cluster_avg = df_k4[['Recency', 'Frequency', 'MonetaryValue', 'Cluster']].groupby(['Cluster']).mean() \n",
    "population_avg = df[['Recency', 'Frequency', 'MonetaryValue']].mean()\n",
    "relative_imp = cluster_avg / population_avg\n",
    "relative_imp"
   ]
  },
  {
   "cell_type": "code",
   "execution_count": 192,
   "id": "7c866fe9",
   "metadata": {},
   "outputs": [
    {
     "data": {
      "image/png": "[encoded data removed]",
      "text/plain": [
       "<Figure size 800x200 with 2 Axes>"
      ]
     },
     "metadata": {},
     "output_type": "display_data"
    }
   ],
   "source": [
    "plt.figure(figsize=(8, 2))\n",
    "plt.title('Relative importance of attributes')\n",
    "\n",
    "sns.heatmap(data=relative_imp, annot=True, fmt='.2f', cmap='RdYlGn')\n",
    "plt.show()"
   ]
  },
  {
   "cell_type": "markdown",
   "id": "f17c2e23",
   "metadata": {},
   "source": [
    "# 5 Clusters"
   ]
  },
  {
   "cell_type": "markdown",
   "id": "8eb95ff6",
   "metadata": {},
   "source": [
    "Recency: Days passed since last transaction (in the last 3 months) <br>\n",
    "Frequency: Number of transactions(in the last 3 months) <br>\n",
    "MonetaryValue: Volume (in the last 3 months)"
   ]
  },
  {
   "cell_type": "code",
   "execution_count": 171,
   "id": "dce1aa5f",
   "metadata": {},
   "outputs": [
    {
     "name": "stderr",
     "output_type": "stream",
     "text": [
      "/Users/simgesenyuz/anaconda3/lib/python3.11/site-packages/sklearn/cluster/_kmeans.py:1412: FutureWarning: The default value of `n_init` will change from 10 to 'auto' in 1.4. Set the value of `n_init` explicitly to suppress the warning\n",
      "  super()._check_params_vs_input(X, default_n_init=10)\n"
     ]
    }
   ],
   "source": [
    "kmeans = KMeans(n_clusters=5, random_state=1) \n",
    "kmeans.fit(df_norm)\n",
    "cluster_labels = kmeans.labels_"
   ]
  },
  {
   "cell_type": "code",
   "execution_count": 172,
   "id": "6dccc5eb",
   "metadata": {},
   "outputs": [
    {
     "data": {
      "text/html": [
       "<div>\n",
       "<style scoped>\n",
       "    .dataframe tbody tr th:only-of-type {\n",
       "        vertical-align: middle;\n",
       "    }\n",
       "\n",
       "    .dataframe tbody tr th {\n",
       "        vertical-align: top;\n",
       "    }\n",
       "\n",
       "    .dataframe thead tr th {\n",
       "        text-align: left;\n",
       "    }\n",
       "\n",
       "    .dataframe thead tr:last-of-type th {\n",
       "        text-align: right;\n",
       "    }\n",
       "</style>\n",
       "<table border=\"1\" class=\"dataframe\">\n",
       "  <thead>\n",
       "    <tr>\n",
       "      <th></th>\n",
       "      <th>Recency</th>\n",
       "      <th>Frequency</th>\n",
       "      <th colspan=\"2\" halign=\"left\">MonetaryValue</th>\n",
       "    </tr>\n",
       "    <tr>\n",
       "      <th></th>\n",
       "      <th>mean</th>\n",
       "      <th>mean</th>\n",
       "      <th>mean</th>\n",
       "      <th>count</th>\n",
       "    </tr>\n",
       "    <tr>\n",
       "      <th>Cluster</th>\n",
       "      <th></th>\n",
       "      <th></th>\n",
       "      <th></th>\n",
       "      <th></th>\n",
       "    </tr>\n",
       "  </thead>\n",
       "  <tbody>\n",
       "    <tr>\n",
       "      <th>0</th>\n",
       "      <td>57.76</td>\n",
       "      <td>7.95</td>\n",
       "      <td>24432.17</td>\n",
       "      <td>1699</td>\n",
       "    </tr>\n",
       "    <tr>\n",
       "      <th>1</th>\n",
       "      <td>57.23</td>\n",
       "      <td>1.97</td>\n",
       "      <td>199.42</td>\n",
       "      <td>1597</td>\n",
       "    </tr>\n",
       "    <tr>\n",
       "      <th>2</th>\n",
       "      <td>3.43</td>\n",
       "      <td>583.15</td>\n",
       "      <td>9605552.68</td>\n",
       "      <td>1451</td>\n",
       "    </tr>\n",
       "    <tr>\n",
       "      <th>3</th>\n",
       "      <td>8.37</td>\n",
       "      <td>17.50</td>\n",
       "      <td>22003.97</td>\n",
       "      <td>1431</td>\n",
       "    </tr>\n",
       "    <tr>\n",
       "      <th>4</th>\n",
       "      <td>42.79</td>\n",
       "      <td>148.40</td>\n",
       "      <td>1294412.45</td>\n",
       "      <td>1514</td>\n",
       "    </tr>\n",
       "  </tbody>\n",
       "</table>\n",
       "</div>"
      ],
      "text/plain": [
       "        Recency Frequency MonetaryValue      \n",
       "           mean      mean          mean count\n",
       "Cluster                                      \n",
       "0         57.76      7.95      24432.17  1699\n",
       "1         57.23      1.97        199.42  1597\n",
       "2          3.43    583.15    9605552.68  1451\n",
       "3          8.37     17.50      22003.97  1431\n",
       "4         42.79    148.40    1294412.45  1514"
      ]
     },
     "execution_count": 172,
     "metadata": {},
     "output_type": "execute_result"
    }
   ],
   "source": [
    "df_k5 = df.assign(Cluster=cluster_labels)\n",
    "\n",
    "df_k5[['Recency', 'Frequency', 'MonetaryValue']] = df_k5[['Recency', 'Frequency', 'MonetaryValue']] - 1\n",
    "grouped = df_k5.groupby(['Cluster'])\n",
    "\n",
    "grouped.agg({\n",
    "    'Recency': 'mean',\n",
    "    'Frequency': 'mean',\n",
    "    'MonetaryValue': ['mean', 'count']\n",
    "  }).round(2)"
   ]
  },
  {
   "cell_type": "code",
   "execution_count": 189,
   "id": "f80267e2",
   "metadata": {},
   "outputs": [
    {
     "data": {
      "text/html": [
       "<div>\n",
       "<style scoped>\n",
       "    .dataframe tbody tr th:only-of-type {\n",
       "        vertical-align: middle;\n",
       "    }\n",
       "\n",
       "    .dataframe tbody tr th {\n",
       "        vertical-align: top;\n",
       "    }\n",
       "\n",
       "    .dataframe thead th {\n",
       "        text-align: right;\n",
       "    }\n",
       "</style>\n",
       "<table border=\"1\" class=\"dataframe\">\n",
       "  <thead>\n",
       "    <tr style=\"text-align: right;\">\n",
       "      <th></th>\n",
       "      <th>Recency</th>\n",
       "      <th>Frequency</th>\n",
       "      <th>MonetaryValue</th>\n",
       "    </tr>\n",
       "    <tr>\n",
       "      <th>Cluster</th>\n",
       "      <th></th>\n",
       "      <th></th>\n",
       "      <th></th>\n",
       "    </tr>\n",
       "  </thead>\n",
       "  <tbody>\n",
       "    <tr>\n",
       "      <th>0</th>\n",
       "      <td>1.592634</td>\n",
       "      <td>0.054593</td>\n",
       "      <td>0.011767</td>\n",
       "    </tr>\n",
       "    <tr>\n",
       "      <th>1</th>\n",
       "      <td>1.578113</td>\n",
       "      <td>0.013527</td>\n",
       "      <td>0.000096</td>\n",
       "    </tr>\n",
       "    <tr>\n",
       "      <th>2</th>\n",
       "      <td>0.094491</td>\n",
       "      <td>4.004229</td>\n",
       "      <td>4.626335</td>\n",
       "    </tr>\n",
       "    <tr>\n",
       "      <th>3</th>\n",
       "      <td>0.230780</td>\n",
       "      <td>0.120142</td>\n",
       "      <td>0.010598</td>\n",
       "    </tr>\n",
       "    <tr>\n",
       "      <th>4</th>\n",
       "      <td>1.179923</td>\n",
       "      <td>1.019002</td>\n",
       "      <td>0.623430</td>\n",
       "    </tr>\n",
       "  </tbody>\n",
       "</table>\n",
       "</div>"
      ],
      "text/plain": [
       "          Recency  Frequency  MonetaryValue\n",
       "Cluster                                    \n",
       "0        1.592634   0.054593       0.011767\n",
       "1        1.578113   0.013527       0.000096\n",
       "2        0.094491   4.004229       4.626335\n",
       "3        0.230780   0.120142       0.010598\n",
       "4        1.179923   1.019002       0.623430"
      ]
     },
     "execution_count": 189,
     "metadata": {},
     "output_type": "execute_result"
    }
   ],
   "source": [
    "cluster_avg = df_k5[['Recency', 'Frequency', 'MonetaryValue', 'Cluster']].groupby(['Cluster']).mean() \n",
    "population_avg = df[['Recency', 'Frequency', 'MonetaryValue']].mean()\n",
    "relative_imp = cluster_avg / population_avg\n",
    "relative_imp"
   ]
  },
  {
   "cell_type": "code",
   "execution_count": 190,
   "id": "68153660",
   "metadata": {},
   "outputs": [
    {
     "data": {
      "image/png": "[encoded data removed]",
      "text/plain": [
       "<Figure size 800x200 with 2 Axes>"
      ]
     },
     "metadata": {},
     "output_type": "display_data"
    }
   ],
   "source": [
    "plt.figure(figsize=(8, 2))\n",
    "plt.title('Relative importance of attributes')\n",
    "\n",
    "sns.heatmap(data=relative_imp, annot=True, fmt='.2f', cmap='RdYlGn')\n",
    "plt.show()"
   ]
  },
  {
   "cell_type": "code",
   "execution_count": null,
   "id": "2bac1bae",
   "metadata": {},
   "outputs": [],
   "source": []
  }
 ],
 "metadata": {
  "kernelspec": {
   "display_name": "Python 3 (ipykernel)",
   "language": "python",
   "name": "python3"
  },
  "language_info": {
   "codemirror_mode": {
    "name": "ipython",
    "version": 3
   },
   "file_extension": ".py",
   "mimetype": "text/x-python",
   "name": "python",
   "nbconvert_exporter": "python",
   "pygments_lexer": "ipython3",
   "version": "3.11.5"
  }
 },
 "nbformat": 4,
 "nbformat_minor": 5
}
